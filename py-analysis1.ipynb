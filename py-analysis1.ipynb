{
 "cells": [
  {
   "cell_type": "markdown",
   "id": "37139367",
   "metadata": {},
   "source": [
    "### На складе лежат разные фрукты в разном количестве.\n",
    "Нужно написать функцию, которая на вход принимает любое количество названий фруктов и их количество, а возвращает общее количество фруктов на складе"
   ]
  },
  {
   "cell_type": "code",
   "execution_count": 48,
   "id": "6b090504",
   "metadata": {},
   "outputs": [],
   "source": [
    "from typing import List, Dict\n",
    "import pandas as pd\n",
    "import datetime"
   ]
  },
  {
   "cell_type": "code",
   "execution_count": 3,
   "id": "d9a47123",
   "metadata": {},
   "outputs": [
    {
     "data": {
      "text/plain": [
       "296"
      ]
     },
     "execution_count": 3,
     "metadata": {},
     "output_type": "execute_result"
    }
   ],
   "source": [
    "def sum_store(fruits: Dict):\n",
    "    return sum(fruits.values())\n",
    "\n",
    "fruits = {'apple': 55, 'banana': 77, 'pineapple': 66, 'papaya': 88, 'orange':10}\n",
    "sum_store(fruits)   "
   ]
  },
  {
   "cell_type": "markdown",
   "id": "0b2e2c0d",
   "metadata": {},
   "source": [
    
    "### Дан список с затратами на рекламу. Но в данных есть ошибки, некоторые затраты имеют отрицательную величину. Удалите такие значения из списка и посчитайте суммарные затраты\n",
    "[100, 125, -90, 345, 655, -1, 0, 200]\n",
    "Используйте list comprehensions"
   ]
  },
  {
   "cell_type": "code",
   "execution_count": 6,
   "id": "570565ca",
   "metadata": {},
   "outputs": [
    {
     "data": {
      "text/plain": [
       "1425"
      ]
     },
     "execution_count": 6,
     "metadata": {},
     "output_type": "execute_result"
    }
   ],
   "source": [
    "ads = [100, 125, -90, 345, 655, -1, 0, 200]\n",
    "sum([x for x in ads if x >= 0])"
   ]
  },
  {
   "cell_type": "markdown",
   "id": "ae0de19e",
   "metadata": {},
   "source": [
    "## Даны два списка.\n",
    "\n",
    "Дата покупки\n",
    "['2021-09-14', '2021-12-15', '2021-09-08', '2021-12-05', '2021-10-09', '2021-09-30', '2021-12-22', '2021-11-29', '2021-12-24', '2021-11-26', '2021-10-27', '2021-12-18', '2021-11-09', '2021-11-23', '2021-09-27', '2021-10-02', '2021-12-27', '2021-09-20', '2021-12-13', '2021-11-01', '2021-11-09', '2021-12-06', '2021-12-08', '2021-10-09', '2021-10-31', '2021-09-30', '2021-11-09', '2021-12-13', '2021-10-26', '2021-12-09']\n",
    "\n",
    "Суммы покупок по датам\n",
    "[1270, 8413, 9028, 3703, 5739, 4095, 295, 4944, 5723, 3701, 4471, 651, 7037, 4274, 6275, 4988, 6930, 2971, 6592, 2004, 2822, 519, 3406, 2732, 5015, 2008, 316, 6333, 5700, 2887]"
   ]
  },
  {
   "cell_type": "code",
   "execution_count": 57,
   "id": "df48734b",
   "metadata": {},
   "outputs": [],
   "source": [
    "dates=['2021-09-14', '2021-12-15', '2021-09-08', '2021-12-05', '2021-10-09', '2021-09-30', '2021-12-22', '2021-11-29', '2021-12-24', '2021-11-26', '2021-10-27', '2021-12-18', '2021-11-09', '2021-11-23', '2021-09-27', '2021-10-02', '2021-12-27', '2021-09-20', '2021-12-13', '2021-11-01', '2021-11-09', '2021-12-06', '2021-12-08', '2021-10-09', '2021-10-31', '2021-09-30', '2021-11-09', '2021-12-13', '2021-10-26', '2021-12-09']\n"
   ]
  },
  {
   "cell_type": "code",
   "execution_count": 10,
   "id": "2ba32876",
   "metadata": {},
   "outputs": [
    {
     "data": {
      "text/plain": [
       "[1270,\n",
       " 8413,\n",
       " 9028,\n",
       " 3703,\n",
       " 5739,\n",
       " 4095,\n",
       " 295,\n",
       " 4944,\n",
       " 5723,\n",
       " 3701,\n",
       " 4471,\n",
       " 651,\n",
       " 7037,\n",
       " 4274,\n",
       " 6275,\n",
       " 4988,\n",
       " 6930,\n",
       " 2971,\n",
       " 6592,\n",
       " 2004,\n",
       " 2822,\n",
       " 519,\n",
       " 3406,\n",
       " 2732,\n",
       " 5015,\n",
       " 2008,\n",
       " 316,\n",
       " 6333,\n",
       " 5700,\n",
       " 2887]"
      ]
     },
     "execution_count": 10,
     "metadata": {},
     "output_type": "execute_result"
    }
   ],
   "source": [
    "purchases=[1270, 8413, 9028, 3703, 5739, 4095, 295, 4944, 5723, 3701, 4471, 651, 7037, 4274, 6275, 4988, 6930, 2971, 6592, 2004, 2822, 519, 3406, 2732, 5015, 2008, 316, 6333, 5700, 2887]\n",
    "purchases"
   ]
  },
  {
   "cell_type": "markdown",
   "id": "f764828c",
   "metadata": {},
   "source": [
    "### 4.1 Найдите, какая выручка у компании в ноябре\n",
    "Используйте list comprehensions"
   ]
  },
  {
   "cell_type": "code",
   "execution_count": 53,
   "id": "022dee00",
   "metadata": {},
   "outputs": [
    {
     "data": {
      "text/plain": [
       "25098"
      ]
     },
     "execution_count": 53,
     "metadata": {},
     "output_type": "execute_result"
    }
   ],
   "source": [
    "sum(i[1] for i in list(zip(dates, purchases)) if (datetime.datetime.strptime(i[0],'%Y-%m-%d').month==11))"
   ]
  },
  {
   "cell_type": "markdown",
   "id": "8acef7a4",
   "metadata": {},
   "source": [
    "### 4.2 Найдите выручку компании в зависимости от месяца\n",
    "Для этого напишите функцию, которая на вход принимает список с датами и список с выручкой, а на выходе словарь, где ключи - это месяцы, а значения - это выручка. Используйте аннотирование типов."
   ]
  },
  {
   "cell_type": "code",
   "execution_count": 56,
   "id": "fbdcda68",
   "metadata": {},
   "outputs": [
    {
     "data": {
      "text/plain": [
       "{'Sum': {9: 25647, 10: 28645, 11: 25098, 12: 45452}}"
      ]
     },
     "execution_count": 56,
     "metadata": {},
     "output_type": "execute_result"
    }
   ],
   "source": [
    "def revenue_by_month (dates: List, purchases: List) -> Dict:\n",
    "    df = pd.DataFrame()\n",
    "    df['Date'] = [datetime.datetime.strptime(i, '%Y-%m-%d') for i in dates]\n",
    "    df['Sum'] = purchases\n",
    "    df['Month'] = df['Date'].dt.month\n",
    "    df = df.groupby('Month').sum()\n",
    "    return df.to_dict('dict')\n",
    "\n",
    "revenue_by_month(dates, purchases)"
   ]
  }
 ],
 "metadata": {
  "kernelspec": {
   "display_name": "Python 3 (ipykernel)",
   "language": "python",
   "name": "python3"
  },
  "language_info": {
   "codemirror_mode": {
    "name": "ipython",
    "version": 3
   },
   "file_extension": ".py",
   "mimetype": "text/x-python",
   "name": "python",
   "nbconvert_exporter": "python",
   "pygments_lexer": "ipython3",
   "version": "3.9.13"
  }
 },
 "nbformat": 4,
 "nbformat_minor": 5
}
